{
  "nbformat": 4,
  "nbformat_minor": 0,
  "metadata": {
    "colab": {
      "provenance": [],
      "toc_visible": true,
      "authorship_tag": "ABX9TyOp/Ij9C9bcu9e6WKfJaaHV",
      "include_colab_link": true
    },
    "kernelspec": {
      "name": "python3",
      "display_name": "Python 3"
    },
    "language_info": {
      "name": "python"
    }
  },
  "cells": [
    {
      "cell_type": "markdown",
      "metadata": {
        "id": "view-in-github",
        "colab_type": "text"
      },
      "source": [
        "<a href=\"https://colab.research.google.com/github/mdzakyjaya/jhudsps/blob/main/Untitled1.ipynb\" target=\"_parent\"><img src=\"https://colab.research.google.com/assets/colab-badge.svg\" alt=\"Open In Colab\"/></a>"
      ]
    },
    {
      "cell_type": "markdown",
      "source": [
        "## Tes aja\n",
        "\n",
        "![House_Calls_Bainbridge_Au_NY_bookshelf (1)-png.webp](https://raw.githubusercontent.com/mdzakyjaya/jhudsps/main/picture/House_Calls_Bainbridge_Au_NY_bookshelf%20(1)-png.webp)"
      ],
      "metadata": {
        "id": "XWEKPz3orOFK"
      }
    },
    {
      "cell_type": "code",
      "execution_count": 6,
      "metadata": {
        "colab": {
          "base_uri": "https://localhost:8080/"
        },
        "id": "jQ-TUQL5pSX1",
        "outputId": "4aa053d5-3b9e-4725-8079-327f35a33bed"
      },
      "outputs": [
        {
          "output_type": "execute_result",
          "data": {
            "text/plain": [
              "RangeIndex(start=0, stop=4, step=1)"
            ]
          },
          "metadata": {},
          "execution_count": 6
        }
      ],
      "source": [
        "import numpy as np\n",
        "import pandas as pd\n",
        "\n",
        "data = pd.Series([12, 13, 14, 14])\n",
        "\n",
        "data.index"
      ]
    }
  ]
}